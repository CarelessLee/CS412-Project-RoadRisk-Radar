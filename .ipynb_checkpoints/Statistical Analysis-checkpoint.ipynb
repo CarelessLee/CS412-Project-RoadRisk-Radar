{
 "cells": [
  {
   "cell_type": "markdown",
   "id": "d25956a3",
   "metadata": {},
   "source": [
    "# Traffic Accident Statistical Analysis"
   ]
  },
  {
   "cell_type": "markdown",
   "id": "84a34e8f",
   "metadata": {},
   "source": [
    "We are going to load all traffic accident data from 2018 to 2023. After that, we are going to do 10 - 15 statistical analysis with various data-mining techiques. "
   ]
  },
  {
   "cell_type": "code",
   "execution_count": 13,
   "id": "f42b4ee2",
   "metadata": {
    "scrolled": true
   },
   "outputs": [
    {
     "name": "stdout",
     "output_type": "stream",
     "text": [
      "               ID   Source  Severity                     Start_Time  \\\n",
      "0       A-2047758  Source2         2            2019-06-12 10:10:56   \n",
      "1       A-4694324  Source1         2  2022-12-03 23:37:14.000000000   \n",
      "2       A-5006183  Source1         2  2022-08-20 13:13:00.000000000   \n",
      "3       A-4237356  Source1         2            2022-02-21 17:43:04   \n",
      "4       A-6690583  Source1         2            2020-12-04 01:46:00   \n",
      "...           ...      ...       ...                            ...   \n",
      "499995  A-6077227  Source1         2            2021-12-15 07:30:00   \n",
      "499996  A-6323243  Source1         2            2021-12-19 16:25:00   \n",
      "499997  A-3789256  Source1         2            2022-04-13 19:28:29   \n",
      "499998  A-7030381  Source1         3            2020-05-15 17:20:56   \n",
      "499999  A-5438901  Source1         2            2022-04-02 23:23:13   \n",
      "\n",
      "                             End_Time  Start_Lat   Start_Lng    End_Lat  \\\n",
      "0                 2019-06-12 10:55:58  30.641211  -91.153481        NaN   \n",
      "1       2022-12-04 01:56:53.000000000  38.990562  -77.399070  38.990037   \n",
      "2       2022-08-20 15:22:45.000000000  34.661189 -120.492822  34.661189   \n",
      "3                 2022-02-21 19:43:23  43.680592  -92.993317  43.680574   \n",
      "4                 2020-12-04 04:13:09  35.395484 -118.985176  35.395476   \n",
      "...                               ...        ...         ...        ...   \n",
      "499995            2021-12-15 07:50:30  45.522510 -123.084104  45.520225   \n",
      "499996            2021-12-19 17:40:37  26.702570  -80.111169  26.703141   \n",
      "499997            2022-04-13 21:33:44  34.561862 -112.259620  34.566822   \n",
      "499998            2020-05-15 17:50:56  38.406680  -78.619310  38.406680   \n",
      "499999            2022-04-03 00:49:48  35.069358  -85.234410  35.070505   \n",
      "\n",
      "           End_Lng  Distance(mi)  ... Roundabout Station   Stop  \\\n",
      "0              NaN         0.000  ...      False   False  False   \n",
      "1       -77.398282         0.056  ...      False   False  False   \n",
      "2      -120.492442         0.022  ...      False   False  False   \n",
      "3       -92.972223         1.054  ...      False   False  False   \n",
      "4      -118.985995         0.046  ...      False   False  False   \n",
      "...            ...           ...  ...        ...     ...    ...   \n",
      "499995 -123.084211         0.158  ...      False   False  False   \n",
      "499996  -80.111133         0.040  ...      False   False  False   \n",
      "499997 -112.267150         0.549  ...      False   False  False   \n",
      "499998  -78.619310         0.000  ...      False   False  False   \n",
      "499999  -85.233836         0.086  ...      False   False  False   \n",
      "\n",
      "       Traffic_Calming Traffic_Signal Turning_Loop Sunrise_Sunset  \\\n",
      "0                False           True        False            Day   \n",
      "1                False          False        False          Night   \n",
      "2                False           True        False            Day   \n",
      "3                False          False        False            Day   \n",
      "4                False          False        False          Night   \n",
      "...                ...            ...          ...            ...   \n",
      "499995           False          False        False          Night   \n",
      "499996           False          False        False            Day   \n",
      "499997           False           True        False          Night   \n",
      "499998           False           True        False            Day   \n",
      "499999           False          False        False          Night   \n",
      "\n",
      "       Civil_Twilight Nautical_Twilight Astronomical_Twilight  \n",
      "0                 Day               Day                   Day  \n",
      "1               Night             Night                 Night  \n",
      "2                 Day               Day                   Day  \n",
      "3                 Day               Day                   Day  \n",
      "4               Night             Night                 Night  \n",
      "...               ...               ...                   ...  \n",
      "499995            Day               Day                   Day  \n",
      "499996            Day               Day                   Day  \n",
      "499997          Night               Day                   Day  \n",
      "499998            Day               Day                   Day  \n",
      "499999          Night             Night                 Night  \n",
      "\n",
      "[500000 rows x 46 columns]\n"
     ]
    }
   ],
   "source": [
    "import pandas as pd\n",
    "import numpy as np\n",
    "from sklearn.model_selection import train_test_split\n",
    "from sklearn.linear_model import LinearRegression\n",
    "from sklearn.metrics import mean_squared_error\n",
    "from sklearn.impute import SimpleImputer\n",
    "from sklearn.preprocessing import StandardScaler\n",
    "import matplotlib.pyplot as plt\n",
    "\n",
    "file_path = 'Data/US_Accidents_March23_sampled_500k.csv'\n",
    "data = pd.read_csv(file_path)\n",
    "\n",
    "print(data)"
   ]
  },
  {
   "cell_type": "markdown",
   "id": "b225fad7",
   "metadata": {},
   "source": [
    "Now it's time to do some statistical analysis."
   ]
  },
  {
   "cell_type": "markdown",
   "id": "fef34cd7",
   "metadata": {},
   "source": [
    "## 1. The state with most number of accidents"
   ]
  },
  {
   "cell_type": "code",
   "execution_count": 13,
   "id": "cac8a2dc",
   "metadata": {},
   "outputs": [
    {
     "data": {
      "text/plain": [
       "('CA', 0.226548)"
      ]
     },
     "execution_count": 13,
     "metadata": {},
     "output_type": "execute_result"
    }
   ],
   "source": [
    "state_accident_counts = data['State'].value_counts()\n",
    "most_accidents_state = state_accident_counts.idxmax()\n",
    "most_accidents_count = state_accident_counts.max()\n",
    "\n",
    "most_accidents_state, most_accidents_count / sum(state_accident_counts)"
   ]
  },
  {
   "cell_type": "markdown",
   "id": "63efe74b",
   "metadata": {},
   "source": [
    "California is the state that has the highest number of accidents in the U.S., accounting for 22.65% of all incidents from 2017 to 2023."
   ]
  },
  {
   "cell_type": "markdown",
   "id": "441b465b",
   "metadata": {},
   "source": [
    "## 2. The city with most number of accidents"
   ]
  },
  {
   "cell_type": "code",
   "execution_count": 18,
   "id": "1c646936",
   "metadata": {},
   "outputs": [
    {
     "data": {
      "text/plain": [
       "('Miami', 0.02428292275106454)"
      ]
     },
     "execution_count": 18,
     "metadata": {},
     "output_type": "execute_result"
    }
   ],
   "source": [
    "city_accident_counts = data['City'].value_counts()\n",
    "most_accidents_city = city_accident_counts.idxmax()\n",
    "most_accidents_count = city_accident_counts.max()\n",
    "\n",
    "most_accidents_city, most_accidents_count / sum(city_accident_counts)"
   ]
  },
  {
   "cell_type": "markdown",
   "id": "6a95bf22",
   "metadata": {},
   "source": [
    "Miami is the city that has the highest number of accidents in the U.S., accounting for 2.43% of all traffic incidents from 2017 to 2023."
   ]
  },
  {
   "cell_type": "markdown",
   "id": "79541137",
   "metadata": {},
   "source": [
    "## 3. Time of the day with most accidents"
   ]
  },
  {
   "cell_type": "code",
   "execution_count": 38,
   "id": "580343eb",
   "metadata": {},
   "outputs": [
    {
     "data": {
      "text/plain": [
       "(8.0, 9.0)"
      ]
     },
     "execution_count": 38,
     "metadata": {},
     "output_type": "execute_result"
    }
   ],
   "source": [
    "hourly_accidents = data.groupby(data['Start_Time'].dt.hour).size()\n",
    "\n",
    "hourly_accidents_rolling_sum = hourly_accidents.rolling(window=2).sum()\n",
    "max_accidents_range_start_hour = hourly_accidents_rolling_sum.idxmax()\n",
    "max_accidents_range_end_hour = (max_accidents_range_start_hour + 1) % 24\n",
    "\n",
    "max_accidents_range_start_hour, max_accidents_range_end_hour"
   ]
  },
  {
   "cell_type": "markdown",
   "id": "84bd7897",
   "metadata": {},
   "source": [
    "8 a.m. to 9 a.m is the time of the day with most accidents, which is also the time of morning office-going hours."
   ]
  },
  {
   "cell_type": "markdown",
   "id": "389c7759",
   "metadata": {},
   "source": [
    "## 4. Day in the week with most accidents"
   ]
  },
  {
   "cell_type": "code",
   "execution_count": 48,
   "id": "7d3554b7",
   "metadata": {},
   "outputs": [
    {
     "data": {
      "text/plain": [
       "'Friday'"
      ]
     },
     "execution_count": 48,
     "metadata": {},
     "output_type": "execute_result"
    }
   ],
   "source": [
    "data['DayOfWeek'] = data['Start_Time'].dt.dayofweek\n",
    "\n",
    "day_of_week_accident_counts = data['DayOfWeek'].value_counts()\n",
    "most_accidents_day = int(day_of_week_accident_counts.idxmax())\n",
    "\n",
    "days = [\"Monday\", \"Tuesday\", \"Wednesday\", \"Thursday\", \"Friday\", \"Saturday\", \"Sunday\"]\n",
    "most_accidents_day_name = days[most_accidents_day]\n",
    "\n",
    "most_accidents_day_name"
   ]
  },
  {
   "cell_type": "markdown",
   "id": "2b49ebc0",
   "metadata": {},
   "source": [
    "Friday is the day in the week with most accidents."
   ]
  },
  {
   "cell_type": "markdown",
   "id": "5180f77f",
   "metadata": {},
   "source": [
    "## 5. Month in the year with most accidents"
   ]
  },
  {
   "cell_type": "code",
   "execution_count": 50,
   "id": "457c0afd",
   "metadata": {},
   "outputs": [
    {
     "data": {
      "text/plain": [
       "'December'"
      ]
     },
     "execution_count": 50,
     "metadata": {},
     "output_type": "execute_result"
    }
   ],
   "source": [
    "data['Month'] = data['Start_Time'].dt.month\n",
    "\n",
    "month_accident_counts = data['Month'].value_counts()\n",
    "most_accidents_month = int(month_accident_counts.idxmax())\n",
    "\n",
    "months = [\"January\", \"February\", \"March\", \"April\", \"May\", \"June\", \"July\", \"August\", \"September\", \"October\", \"November\", \"December\"]\n",
    "most_accidents_month_name = months[most_accidents_month - 1] \n",
    "\n",
    "most_accidents_month_name\n"
   ]
  },
  {
   "cell_type": "markdown",
   "id": "04bc1d8e",
   "metadata": {},
   "source": [
    "December is the month with most accidents in a year. This could possbly be related to the harsh weather during the time."
   ]
  },
  {
   "cell_type": "markdown",
   "id": "63134697",
   "metadata": {},
   "source": [
    "## 6. Distribution of accidents severity"
   ]
  },
  {
   "cell_type": "code",
   "execution_count": 52,
   "id": "79de38ee",
   "metadata": {},
   "outputs": [
    {
     "data": {
      "text/plain": [
       "Severity\n",
       "1     0.8548\n",
       "2    79.6284\n",
       "3    16.9040\n",
       "4     2.6128\n",
       "Name: proportion, dtype: float64"
      ]
     },
     "execution_count": 52,
     "metadata": {},
     "output_type": "execute_result"
    }
   ],
   "source": [
    "severity_counts = data['Severity'].value_counts(normalize=True).sort_index() * 100\n",
    "\n",
    "severity_counts"
   ]
  },
  {
   "cell_type": "markdown",
   "id": "2c5ebdab",
   "metadata": {},
   "source": [
    "Severity 1 accidents consist of 0.85% of all accidents, severity 2 accidents consist of 79.6% of all accidents, severity 3 accidents consist of 16.9% of all accidents, and severity 4 accidents consist of 2.6% of all accients."
   ]
  },
  {
   "cell_type": "markdown",
   "id": "339aa17a",
   "metadata": {},
   "source": [
    "## 7. Places with the highest chance of accidents"
   ]
  },
  {
   "cell_type": "code",
   "execution_count": 57,
   "id": "c45f5ea0",
   "metadata": {},
   "outputs": [
    {
     "data": {
      "text/plain": [
       "('Traffic_Signal', 0.14807)"
      ]
     },
     "execution_count": 57,
     "metadata": {},
     "output_type": "execute_result"
    }
   ],
   "source": [
    "place_counts = data.loc[:, ['Bump', 'Crossing', 'Give_Way', 'Junction', 'No_Exit', 'Station', 'Stop', 'Roundabout', 'Traffic_Signal']].sum()\n",
    "most_frequent_place = place_counts.idxmax()\n",
    "most_frequent_place_count = place_counts.max()\n",
    "\n",
    "most_frequent_place, most_frequent_place_count / 500000"
   ]
  },
  {
   "cell_type": "markdown",
   "id": "a27e4251",
   "metadata": {},
   "source": [
    "Traffic_signal is the place with the highest chance of traffic accidents, accounting for 14.8% of all accidents."
   ]
  },
  {
   "cell_type": "markdown",
   "id": "a205fb02",
   "metadata": {},
   "source": [
    "## 8. 0.1%, 1%, and 10% of most dangerous streets make what percentage of the whole accidents\n"
   ]
  },
  {
   "cell_type": "code",
   "execution_count": 58,
   "id": "c12b07e5",
   "metadata": {},
   "outputs": [
    {
     "data": {
      "text/plain": [
       "(20.349723317624957, 42.910502314198226, 71.38365220735055)"
      ]
     },
     "execution_count": 58,
     "metadata": {},
     "output_type": "execute_result"
    }
   ],
   "source": [
    "street_accident_counts = data['Street'].value_counts().sort_values(ascending=False)\n",
    "\n",
    "total_accidents = street_accident_counts.sum()\n",
    "num_streets = len(street_accident_counts)\n",
    "\n",
    "top_01_percent_streets = max(1, int(num_streets * 0.001))\n",
    "top_1_percent_streets = max(1, int(num_streets * 0.01))\n",
    "top_10_percent_streets = max(1, int(num_streets * 0.1))\n",
    "\n",
    "percent_accidents_top_01_percent = street_accident_counts.head(top_01_percent_streets).sum() / total_accidents * 100\n",
    "percent_accidents_top_1_percent = street_accident_counts.head(top_1_percent_streets).sum() / total_accidents * 100\n",
    "percent_accidents_top_10_percent = street_accident_counts.head(top_10_percent_streets).sum() / total_accidents * 100\n",
    "\n",
    "percent_accidents_top_01_percent, percent_accidents_top_1_percent, percent_accidents_top_10_percent"
   ]
  },
  {
   "cell_type": "markdown",
   "id": "c8d48611",
   "metadata": {},
   "source": [
    "0.1%, 1%, and 10% of the most dangerous streets in the U.S. make 20.35%, 42.91%, and 71.38% of all traffic accidents respectively."
   ]
  },
  {
   "cell_type": "markdown",
   "id": "600bda9c",
   "metadata": {},
   "source": [
    "## 9. Is there a relationship between severity of accident and humidity"
   ]
  },
  {
   "cell_type": "code",
   "execution_count": 24,
   "id": "52212138",
   "metadata": {},
   "outputs": [
    {
     "data": {
      "image/png": "[encoded data removed]",
      "text/plain": [
       "<Figure size 640x480 with 1 Axes>"
      ]
     },
     "metadata": {},
     "output_type": "display_data"
    }
   ],
   "source": [
    "df = pd.DataFrame(data)\n",
    "\n",
    "humidity_imputer = SimpleImputer(strategy='median')\n",
    "df['Humidity(%)'] = humidity_imputer.fit_transform(df[['Humidity(%)']].values)\n",
    "\n",
    "df.dropna(subset=['Severity'], inplace=True)\n",
    "\n",
    "X = df[['Humidity(%)']]  \n",
    "y = df['Severity']    \n",
    "\n",
    "scaler = StandardScaler()\n",
    "X_scaled = scaler.fit_transform(X)\n",
    "\n",
    "X_train, X_test, y_train, y_test = train_test_split(X_scaled, y, test_size=0.2, random_state=42)\n",
    "\n",
    "linear_reg = LinearRegression()\n",
    "linear_reg.fit(X_train, y_train)\n",
    "\n",
    "y_pred = linear_reg.predict(X_test)\n",
    "\n",
    "mse = mean_squared_error(y_test, y_pred)\n",
    "rmse = np.sqrt(mse)\n",
    "\n",
    "# print(f\"Root Mean Squared Error (RMSE) on Test Set: {rmse}\")\n",
    "\n",
    "humidity_values = np.linspace(X['Humidity(%)'].min(), X['Humidity(%)'].max(), num=500).reshape(-1, 1)\n",
    "\n",
    "predicted_severity = linear_reg.predict(humidity_values)\n",
    "\n",
    "plt.plot(humidity_values, predicted_severity, color='blue', linewidth=2, label='Regression Line')\n",
    "plt.xlabel('Humidity(%)')\n",
    "plt.ylabel('Severity')\n",
    "plt.title('Severity vs. Humidity(%)')\n",
    "plt.legend()\n",
    "\n",
    "plt.show()"
   ]
  },
  {
   "cell_type": "markdown",
   "id": "5cd87e46",
   "metadata": {},
   "source": [
    "## 10. Is there a relationship between severity of accident and visibility range"
   ]
  },
  {
   "cell_type": "code",
   "execution_count": 39,
   "id": "2550bdfd",
   "metadata": {},
   "outputs": [
    {
     "name": "stderr",
     "output_type": "stream",
     "text": [
      "/Users/shiyaoli/anaconda3/lib/python3.11/site-packages/sklearn/base.py:465: UserWarning: X does not have valid feature names, but StandardScaler was fitted with feature names\n",
      "  warnings.warn(\n"
     ]
    },
    {
     "data": {
      "image/png": "[encoded data removed]",
      "text/plain": [
       "<Figure size 640x480 with 1 Axes>"
      ]
     },
     "metadata": {},
     "output_type": "display_data"
    }
   ],
   "source": [
    "visibility_imputer = SimpleImputer(strategy='median')\n",
    "df['Wind_Speed(mph)'] = visibility_imputer.fit_transform(df[['Wind_Speed(mph)']].values)\n",
    "\n",
    "df.dropna(subset=['Severity'], inplace=True)\n",
    "\n",
    "X = df[['Wind_Speed(mph)']]  # Features\n",
    "y = df['Severity']  # Target\n",
    "\n",
    "scaler = StandardScaler()\n",
    "X_scaled = scaler.fit_transform(X)\n",
    "X_train, X_test, y_train, y_test = train_test_split(X_scaled, y, test_size=0.2, random_state=42)\n",
    "\n",
    "model = LinearRegression()\n",
    "model.fit(X_train, y_train)\n",
    "\n",
    "y_pred = model.predict(X_test)\n",
    "\n",
    "\n",
    "X_full_range_scaled = scaler.transform(np.linspace(X['Wind_Speed(mph)'].min(), X['Wind_Speed(mph)'].max(), num=500).reshape(-1, 1))\n",
    "y_full_range_pred = model.predict(X_full_range_scaled)\n",
    "X_full_range = scaler.inverse_transform(X_full_range_scaled)\n",
    "\n",
    "plt.plot(X_full_range, y_full_range_pred, color='blue', label='Regression line')\n",
    "\n",
    "plt.xlabel('Wind_Speed(mph)')\n",
    "plt.ylabel('Severity')\n",
    "plt.title('Severity vs. Wind_Speed(mph) - Linear Regression')\n",
    "plt.legend()\n",
    "\n",
    "plt.show()"
   ]
  },
  {
   "cell_type": "code",
   "execution_count": null,
   "id": "5e96d460",
   "metadata": {},
   "outputs": [],
   "source": []
  },
  {
   "cell_type": "code",
   "execution_count": null,
   "id": "fd4d1707",
   "metadata": {},
   "outputs": [],
   "source": []
  }
 ],
 "metadata": {
  "kernelspec": {
   "display_name": "Python 3 (ipykernel)",
   "language": "python",
   "name": "python3"
  },
  "language_info": {
   "codemirror_mode": {
    "name": "ipython",
    "version": 3
   },
   "file_extension": ".py",
   "mimetype": "text/x-python",
   "name": "python",
   "nbconvert_exporter": "python",
   "pygments_lexer": "ipython3",
   "version": "3.11.5"
  }
 },
 "nbformat": 4,
 "nbformat_minor": 5
}
