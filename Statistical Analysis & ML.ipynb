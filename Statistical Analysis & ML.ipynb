{
 "cells": [
  {
   "cell_type": "markdown",
   "id": "d25956a3",
   "metadata": {},
   "source": [
    "# Traffic Accident Statistical Analysis"
   ]
  },
  {
   "cell_type": "markdown",
   "id": "84a34e8f",
   "metadata": {},
   "source": [
    "We are going to load all traffic accident data from 2018 to 2023. After that, we are going to do 10 - 15 statistical analysis with various data-mining techiques. "
   ]
  },
  {
   "cell_type": "code",
   "execution_count": 86,
   "id": "f42b4ee2",
   "metadata": {
    "scrolled": true
   },
   "outputs": [
    {
     "name": "stdout",
     "output_type": "stream",
     "text": [
      "               ID   Source  Severity                     Start_Time  \\\n",
      "0       A-2047758  Source2         2            2019-06-12 10:10:56   \n",
      "1       A-4694324  Source1         2  2022-12-03 23:37:14.000000000   \n",
      "2       A-5006183  Source1         2  2022-08-20 13:13:00.000000000   \n",
      "3       A-4237356  Source1         2            2022-02-21 17:43:04   \n",
      "4       A-6690583  Source1         2            2020-12-04 01:46:00   \n",
      "...           ...      ...       ...                            ...   \n",
      "499995  A-6077227  Source1         2            2021-12-15 07:30:00   \n",
      "499996  A-6323243  Source1         2            2021-12-19 16:25:00   \n",
      "499997  A-3789256  Source1         2            2022-04-13 19:28:29   \n",
      "499998  A-7030381  Source1         3            2020-05-15 17:20:56   \n",
      "499999  A-5438901  Source1         2            2022-04-02 23:23:13   \n",
      "\n",
      "                             End_Time  Start_Lat   Start_Lng    End_Lat  \\\n",
      "0                 2019-06-12 10:55:58  30.641211  -91.153481        NaN   \n",
      "1       2022-12-04 01:56:53.000000000  38.990562  -77.399070  38.990037   \n",
      "2       2022-08-20 15:22:45.000000000  34.661189 -120.492822  34.661189   \n",
      "3                 2022-02-21 19:43:23  43.680592  -92.993317  43.680574   \n",
      "4                 2020-12-04 04:13:09  35.395484 -118.985176  35.395476   \n",
      "...                               ...        ...         ...        ...   \n",
      "499995            2021-12-15 07:50:30  45.522510 -123.084104  45.520225   \n",
      "499996            2021-12-19 17:40:37  26.702570  -80.111169  26.703141   \n",
      "499997            2022-04-13 21:33:44  34.561862 -112.259620  34.566822   \n",
      "499998            2020-05-15 17:50:56  38.406680  -78.619310  38.406680   \n",
      "499999            2022-04-03 00:49:48  35.069358  -85.234410  35.070505   \n",
      "\n",
      "           End_Lng  Distance(mi)  \\\n",
      "0              NaN         0.000   \n",
      "1       -77.398282         0.056   \n",
      "2      -120.492442         0.022   \n",
      "3       -92.972223         1.054   \n",
      "4      -118.985995         0.046   \n",
      "...            ...           ...   \n",
      "499995 -123.084211         0.158   \n",
      "499996  -80.111133         0.040   \n",
      "499997 -112.267150         0.549   \n",
      "499998  -78.619310         0.000   \n",
      "499999  -85.233836         0.086   \n",
      "\n",
      "                                              Description            Street  \\\n",
      "0       Accident on LA-19 Baker-Zachary Hwy at Lower Z...        Highway 19   \n",
      "1       Incident on FOREST RIDGE DR near PEPPERIDGE PL...   Forest Ridge Dr   \n",
      "2       Accident on W Central Ave from Floradale Ave t...     Floradale Ave   \n",
      "3       Incident on I-90 EB near REST AREA Drive with ...        14th St NW   \n",
      "4       RP ADV THEY LOCATED SUSP VEH OF 20002 - 726 CR...        River Blvd   \n",
      "...                                                   ...               ...   \n",
      "499995  Stationary traffic on OR-47 from NW Martin Rd ...         Quince St   \n",
      "499996  Incident on MILITARY TRL near WESTGATE AVE Dri...    N Military Trl   \n",
      "499997  Crash on the right shoulder on E SR-69 Northbo...           E AZ-69   \n",
      "499998         At US-340/S Stuart Ave - Serious accident.   W Spotswood Trl   \n",
      "499999  Incident on NEW JERSEY AVE near NEW YORK AVE E...      New York Ave   \n",
      "\n",
      "                   City            County  ... Give_Way Junction No_Exit  \\\n",
      "0               Zachary  East Baton Rouge  ...    False    False   False   \n",
      "1              Sterling           Loudoun  ...    False    False   False   \n",
      "2                Lompoc     Santa Barbara  ...    False    False   False   \n",
      "3                Austin             Mower  ...    False    False   False   \n",
      "4           Bakersfield              Kern  ...    False    False   False   \n",
      "...                 ...               ...  ...      ...      ...     ...   \n",
      "499995     Forest Grove        Washington  ...    False    False   False   \n",
      "499996  West Palm Beach        Palm Beach  ...    False    False   False   \n",
      "499997            Dewey           Yavapai  ...     True    False   False   \n",
      "499998           Elkton        Rockingham  ...    False    False   False   \n",
      "499999      Chattanooga          Hamilton  ...    False    False   False   \n",
      "\n",
      "       Railway Roundabout Station   Stop  Traffic_Calming  Traffic_Signal  \\\n",
      "0        False      False   False  False            False            True   \n",
      "1        False      False   False  False            False           False   \n",
      "2        False      False   False  False            False            True   \n",
      "3        False      False   False  False            False           False   \n",
      "4        False      False   False  False            False           False   \n",
      "...        ...        ...     ...    ...              ...             ...   \n",
      "499995   False      False   False  False            False           False   \n",
      "499996   False      False   False  False            False           False   \n",
      "499997   False      False   False  False            False            True   \n",
      "499998   False      False   False  False            False            True   \n",
      "499999   False      False   False  False            False           False   \n",
      "\n",
      "        Turning_Loop  Sunrise_Sunset Civil_Twilight  Nautical_Twilight  \\\n",
      "0              False             Day            Day                Day   \n",
      "1              False           Night          Night              Night   \n",
      "2              False             Day            Day                Day   \n",
      "3              False             Day            Day                Day   \n",
      "4              False           Night          Night              Night   \n",
      "...              ...             ...            ...                ...   \n",
      "499995         False           Night            Day                Day   \n",
      "499996         False             Day            Day                Day   \n",
      "499997         False           Night          Night                Day   \n",
      "499998         False             Day            Day                Day   \n",
      "499999         False           Night          Night              Night   \n",
      "\n",
      "        Astronomical_Twilight  \n",
      "0                         Day  \n",
      "1                       Night  \n",
      "2                         Day  \n",
      "3                         Day  \n",
      "4                       Night  \n",
      "...                       ...  \n",
      "499995                    Day  \n",
      "499996                    Day  \n",
      "499997                    Day  \n",
      "499998                    Day  \n",
      "499999                  Night  \n",
      "\n",
      "[500000 rows x 46 columns]\n"
     ]
    }
   ],
   "source": [
    "import pandas as pd\n",
    "import numpy as np\n",
    "from sklearn.model_selection import train_test_split\n",
    "from sklearn.linear_model import LinearRegression\n",
    "from sklearn.metrics import mean_squared_error\n",
    "from sklearn.impute import SimpleImputer\n",
    "from sklearn.preprocessing import StandardScaler\n",
    "import matplotlib.pyplot as plt\n",
    "from datetime import datetime\n",
    "from sklearn.ensemble import RandomForestRegressor\n",
    "from sklearn.model_selection import train_test_split\n",
    "from sklearn.preprocessing import LabelEncoder\n",
    "\n",
    "from sklearn.metrics import accuracy_score, precision_score, recall_score, f1_score\n",
    "from sklearn.neighbors import KNeighborsClassifier\n",
    "from sklearn.ensemble import RandomForestClassifier, AdaBoostClassifier, VotingClassifier\n",
    "from sklearn.tree import DecisionTreeClassifier\n",
    "from sklearn.naive_bayes import GaussianNB\n",
    "from sklearn.linear_model import LogisticRegression\n",
    "from xgboost import XGBClassifier\n",
    "\n",
    "from sklearn.ensemble import RandomForestRegressor, AdaBoostRegressor\n",
    "from sklearn.tree import DecisionTreeRegressor\n",
    "from sklearn.linear_model import LinearRegression\n",
    "from xgboost import XGBRegressor\n",
    "from sklearn.metrics import mean_squared_error, mean_absolute_error, r2_score\n",
    "\n",
    "from sklearn.model_selection import train_test_split\n",
    "from sklearn.metrics import (\n",
    "    mean_squared_error,\n",
    "    mean_absolute_error,\n",
    "    r2_score,\n",
    "    explained_variance_score,\n",
    "    mean_squared_log_error,\n",
    "    median_absolute_error\n",
    ")\n",
    "from sklearn.ensemble import RandomForestRegressor, AdaBoostRegressor\n",
    "from sklearn.tree import DecisionTreeRegressor\n",
    "from sklearn.linear_model import LinearRegression, Lasso, Ridge\n",
    "from sklearn.svm import SVR\n",
    "from xgboost import XGBRegressor\n",
    "\n",
    "file_path = 'Data/US_Accidents_March23_sampled_500k.csv'\n",
    "data = pd.read_csv(file_path)\n",
    "\n",
    "print(data)"
   ]
  },
  {
   "cell_type": "markdown",
   "id": "b225fad7",
   "metadata": {},
   "source": [
    "Now it's time to do some statistical analysis."
   ]
  },
  {
   "cell_type": "markdown",
   "id": "fef34cd7",
   "metadata": {},
   "source": [
    "## 1. The state with most number of accidents"
   ]
  },
  {
   "cell_type": "code",
   "execution_count": 13,
   "id": "cac8a2dc",
   "metadata": {},
   "outputs": [
    {
     "data": {
      "text/plain": [
       "('CA', 0.226548)"
      ]
     },
     "execution_count": 13,
     "metadata": {},
     "output_type": "execute_result"
    }
   ],
   "source": [
    "state_accident_counts = data['State'].value_counts()\n",
    "most_accidents_state = state_accident_counts.idxmax()\n",
    "most_accidents_count = state_accident_counts.max()\n",
    "\n",
    "most_accidents_state, most_accidents_count / sum(state_accident_counts)"
   ]
  },
  {
   "cell_type": "markdown",
   "id": "63efe74b",
   "metadata": {},
   "source": [
    "California is the state that has the highest number of accidents in the U.S., accounting for 22.65% of all incidents from 2017 to 2023."
   ]
  },
  {
   "cell_type": "markdown",
   "id": "441b465b",
   "metadata": {},
   "source": [
    "## 2. The city with most number of accidents"
   ]
  },
  {
   "cell_type": "code",
   "execution_count": 18,
   "id": "1c646936",
   "metadata": {},
   "outputs": [
    {
     "data": {
      "text/plain": [
       "('Miami', 0.02428292275106454)"
      ]
     },
     "execution_count": 18,
     "metadata": {},
     "output_type": "execute_result"
    }
   ],
   "source": [
    "city_accident_counts = data['City'].value_counts()\n",
    "most_accidents_city = city_accident_counts.idxmax()\n",
    "most_accidents_count = city_accident_counts.max()\n",
    "\n",
    "most_accidents_city, most_accidents_count / sum(city_accident_counts)"
   ]
  },
  {
   "cell_type": "markdown",
   "id": "6a95bf22",
   "metadata": {},
   "source": [
    "Miami is the city that has the highest number of accidents in the U.S., accounting for 2.43% of all traffic incidents from 2017 to 2023."
   ]
  },
  {
   "cell_type": "markdown",
   "id": "79541137",
   "metadata": {},
   "source": [
    "## 3. Time of the day with most accidents"
   ]
  },
  {
   "cell_type": "code",
   "execution_count": 38,
   "id": "580343eb",
   "metadata": {},
   "outputs": [
    {
     "data": {
      "text/plain": [
       "(8.0, 9.0)"
      ]
     },
     "execution_count": 38,
     "metadata": {},
     "output_type": "execute_result"
    }
   ],
   "source": [
    "hourly_accidents = data.groupby(data['Start_Time'].dt.hour).size()\n",
    "\n",
    "hourly_accidents_rolling_sum = hourly_accidents.rolling(window=2).sum()\n",
    "max_accidents_range_start_hour = hourly_accidents_rolling_sum.idxmax()\n",
    "max_accidents_range_end_hour = (max_accidents_range_start_hour + 1) % 24\n",
    "\n",
    "max_accidents_range_start_hour, max_accidents_range_end_hour"
   ]
  },
  {
   "cell_type": "markdown",
   "id": "84bd7897",
   "metadata": {},
   "source": [
    "8 a.m. to 9 a.m is the time of the day with most accidents, which is also the time of morning office-going hours."
   ]
  },
  {
   "cell_type": "markdown",
   "id": "389c7759",
   "metadata": {},
   "source": [
    "## 4. Day in the week with most accidents"
   ]
  },
  {
   "cell_type": "code",
   "execution_count": 48,
   "id": "7d3554b7",
   "metadata": {},
   "outputs": [
    {
     "data": {
      "text/plain": [
       "'Friday'"
      ]
     },
     "execution_count": 48,
     "metadata": {},
     "output_type": "execute_result"
    }
   ],
   "source": [
    "data['DayOfWeek'] = data['Start_Time'].dt.dayofweek\n",
    "\n",
    "day_of_week_accident_counts = data['DayOfWeek'].value_counts()\n",
    "most_accidents_day = int(day_of_week_accident_counts.idxmax())\n",
    "\n",
    "days = [\"Monday\", \"Tuesday\", \"Wednesday\", \"Thursday\", \"Friday\", \"Saturday\", \"Sunday\"]\n",
    "most_accidents_day_name = days[most_accidents_day]\n",
    "\n",
    "most_accidents_day_name"
   ]
  },
  {
   "cell_type": "markdown",
   "id": "2b49ebc0",
   "metadata": {},
   "source": [
    "Friday is the day in the week with most accidents."
   ]
  },
  {
   "cell_type": "markdown",
   "id": "5180f77f",
   "metadata": {},
   "source": [
    "## 5. Month in the year with most accidents"
   ]
  },
  {
   "cell_type": "code",
   "execution_count": 50,
   "id": "457c0afd",
   "metadata": {},
   "outputs": [
    {
     "data": {
      "text/plain": [
       "'December'"
      ]
     },
     "execution_count": 50,
     "metadata": {},
     "output_type": "execute_result"
    }
   ],
   "source": [
    "data['Month'] = data['Start_Time'].dt.month\n",
    "\n",
    "month_accident_counts = data['Month'].value_counts()\n",
    "most_accidents_month = int(month_accident_counts.idxmax())\n",
    "\n",
    "months = [\"January\", \"February\", \"March\", \"April\", \"May\", \"June\", \"July\", \"August\", \"September\", \"October\", \"November\", \"December\"]\n",
    "most_accidents_month_name = months[most_accidents_month - 1] \n",
    "\n",
    "most_accidents_month_name\n"
   ]
  },
  {
   "cell_type": "markdown",
   "id": "04bc1d8e",
   "metadata": {},
   "source": [
    "December is the month with most accidents in a year. This could possbly be related to the harsh weather during the time."
   ]
  },
  {
   "cell_type": "markdown",
   "id": "63134697",
   "metadata": {},
   "source": [
    "## 6. Distribution of accidents severity"
   ]
  },
  {
   "cell_type": "code",
   "execution_count": 52,
   "id": "79de38ee",
   "metadata": {},
   "outputs": [
    {
     "data": {
      "text/plain": [
       "Severity\n",
       "1     0.8548\n",
       "2    79.6284\n",
       "3    16.9040\n",
       "4     2.6128\n",
       "Name: proportion, dtype: float64"
      ]
     },
     "execution_count": 52,
     "metadata": {},
     "output_type": "execute_result"
    }
   ],
   "source": [
    "severity_counts = data['Severity'].value_counts(normalize=True).sort_index() * 100\n",
    "\n",
    "severity_counts"
   ]
  },
  {
   "cell_type": "markdown",
   "id": "2c5ebdab",
   "metadata": {},
   "source": [
    "Severity 1 accidents consist of 0.85% of all accidents, severity 2 accidents consist of 79.6% of all accidents, severity 3 accidents consist of 16.9% of all accidents, and severity 4 accidents consist of 2.6% of all accients."
   ]
  },
  {
   "cell_type": "markdown",
   "id": "339aa17a",
   "metadata": {},
   "source": [
    "## 7. Places with the highest chance of accidents"
   ]
  },
  {
   "cell_type": "code",
   "execution_count": 57,
   "id": "c45f5ea0",
   "metadata": {},
   "outputs": [
    {
     "data": {
      "text/plain": [
       "('Traffic_Signal', 0.14807)"
      ]
     },
     "execution_count": 57,
     "metadata": {},
     "output_type": "execute_result"
    }
   ],
   "source": [
    "place_counts = data.loc[:, ['Bump', 'Crossing', 'Give_Way', 'Junction', 'No_Exit', 'Station', 'Stop', 'Roundabout', 'Traffic_Signal']].sum()\n",
    "most_frequent_place = place_counts.idxmax()\n",
    "most_frequent_place_count = place_counts.max()\n",
    "\n",
    "most_frequent_place, most_frequent_place_count / 500000"
   ]
  },
  {
   "cell_type": "markdown",
   "id": "a27e4251",
   "metadata": {},
   "source": [
    "Traffic_signal is the place with the highest chance of traffic accidents, accounting for 14.8% of all accidents."
   ]
  },
  {
   "cell_type": "markdown",
   "id": "a205fb02",
   "metadata": {},
   "source": [
    "## 8. 0.1%, 1%, and 10% of most dangerous streets make what percentage of the whole accidents\n"
   ]
  },
  {
   "cell_type": "code",
   "execution_count": 58,
   "id": "c12b07e5",
   "metadata": {},
   "outputs": [
    {
     "data": {
      "text/plain": [
       "(20.349723317624957, 42.910502314198226, 71.38365220735055)"
      ]
     },
     "execution_count": 58,
     "metadata": {},
     "output_type": "execute_result"
    }
   ],
   "source": [
    "street_accident_counts = data['Street'].value_counts().sort_values(ascending=False)\n",
    "\n",
    "total_accidents = street_accident_counts.sum()\n",
    "num_streets = len(street_accident_counts)\n",
    "\n",
    "top_01_percent_streets = max(1, int(num_streets * 0.001))\n",
    "top_1_percent_streets = max(1, int(num_streets * 0.01))\n",
    "top_10_percent_streets = max(1, int(num_streets * 0.1))\n",
    "\n",
    "percent_accidents_top_01_percent = street_accident_counts.head(top_01_percent_streets).sum() / total_accidents * 100\n",
    "percent_accidents_top_1_percent = street_accident_counts.head(top_1_percent_streets).sum() / total_accidents * 100\n",
    "percent_accidents_top_10_percent = street_accident_counts.head(top_10_percent_streets).sum() / total_accidents * 100\n",
    "\n",
    "percent_accidents_top_01_percent, percent_accidents_top_1_percent, percent_accidents_top_10_percent"
   ]
  },
  {
   "cell_type": "markdown",
   "id": "c8d48611",
   "metadata": {},
   "source": [
    "0.1%, 1%, and 10% of the most dangerous streets in the U.S. make 20.35%, 42.91%, and 71.38% of all traffic accidents respectively."
   ]
  },
  {
   "cell_type": "markdown",
   "id": "600bda9c",
   "metadata": {},
   "source": [
    "## 9. Is there a relationship between severity of accident and humidity"
   ]
  },
  {
   "cell_type": "code",
   "execution_count": 24,
   "id": "52212138",
   "metadata": {},
   "outputs": [
    {
     "data": {
      "image/png": "[encoded data removed]",
      "text/plain": [
       "<Figure size 640x480 with 1 Axes>"
      ]
     },
     "metadata": {},
     "output_type": "display_data"
    }
   ],
   "source": [
    "df = pd.DataFrame(data)\n",
    "\n",
    "humidity_imputer = SimpleImputer(strategy='median')\n",
    "df['Humidity(%)'] = humidity_imputer.fit_transform(df[['Humidity(%)']].values)\n",
    "\n",
    "df.dropna(subset=['Severity'], inplace=True)\n",
    "\n",
    "X = df[['Humidity(%)']]  \n",
    "y = df['Severity']    \n",
    "\n",
    "scaler = StandardScaler()\n",
    "X_scaled = scaler.fit_transform(X)\n",
    "\n",
    "X_train, X_test, y_train, y_test = train_test_split(X_scaled, y, test_size=0.2, random_state=42)\n",
    "\n",
    "linear_reg = LinearRegression()\n",
    "linear_reg.fit(X_train, y_train)\n",
    "\n",
    "y_pred = linear_reg.predict(X_test)\n",
    "\n",
    "mse = mean_squared_error(y_test, y_pred)\n",
    "rmse = np.sqrt(mse)\n",
    "\n",
    "# print(f\"Root Mean Squared Error (RMSE) on Test Set: {rmse}\")\n",
    "\n",
    "humidity_values = np.linspace(X['Humidity(%)'].min(), X['Humidity(%)'].max(), num=500).reshape(-1, 1)\n",
    "\n",
    "predicted_severity = linear_reg.predict(humidity_values)\n",
    "\n",
    "plt.plot(humidity_values, predicted_severity, color='blue', linewidth=2, label='Regression Line')\n",
    "plt.xlabel('Humidity(%)')\n",
    "plt.ylabel('Severity')\n",
    "plt.title('Severity vs. Humidity(%)')\n",
    "plt.legend()\n",
    "\n",
    "plt.show()"
   ]
  },
  {
   "cell_type": "markdown",
   "id": "5cd87e46",
   "metadata": {},
   "source": [
    "## 10. Is there a relationship between severity of accident and visibility range"
   ]
  },
  {
   "cell_type": "code",
   "execution_count": 39,
   "id": "2550bdfd",
   "metadata": {},
   "outputs": [
    {
     "name": "stderr",
     "output_type": "stream",
     "text": [
      "/Users/shiyaoli/anaconda3/lib/python3.11/site-packages/sklearn/base.py:465: UserWarning: X does not have valid feature names, but StandardScaler was fitted with feature names\n",
      "  warnings.warn(\n"
     ]
    },
    {
     "data": {
      "image/png": "[encoded data removed]",
      "text/plain": [
       "<Figure size 640x480 with 1 Axes>"
      ]
     },
     "metadata": {},
     "output_type": "display_data"
    }
   ],
   "source": [
    "visibility_imputer = SimpleImputer(strategy='median')\n",
    "df['Wind_Speed(mph)'] = visibility_imputer.fit_transform(df[['Wind_Speed(mph)']].values)\n",
    "\n",
    "df.dropna(subset=['Severity'], inplace=True)\n",
    "\n",
    "X = df[['Wind_Speed(mph)']]  # Features\n",
    "y = df['Severity']  # Target\n",
    "\n",
    "scaler = StandardScaler()\n",
    "X_scaled = scaler.fit_transform(X)\n",
    "X_train, X_test, y_train, y_test = train_test_split(X_scaled, y, test_size=0.2, random_state=42)\n",
    "\n",
    "model = LinearRegression()\n",
    "model.fit(X_train, y_train)\n",
    "\n",
    "y_pred = model.predict(X_test)\n",
    "\n",
    "\n",
    "X_full_range_scaled = scaler.transform(np.linspace(X['Wind_Speed(mph)'].min(), X['Wind_Speed(mph)'].max(), num=500).reshape(-1, 1))\n",
    "y_full_range_pred = model.predict(X_full_range_scaled)\n",
    "X_full_range = scaler.inverse_transform(X_full_range_scaled)\n",
    "\n",
    "plt.plot(X_full_range, y_full_range_pred, color='blue', label='Regression line')\n",
    "\n",
    "plt.xlabel('Wind_Speed(mph)')\n",
    "plt.ylabel('Severity')\n",
    "plt.title('Severity vs. Wind_Speed(mph) - Linear Regression')\n",
    "plt.legend()\n",
    "\n",
    "plt.show()"
   ]
  },
  {
   "cell_type": "markdown",
   "id": "937258d0",
   "metadata": {},
   "source": [
    "## Accident Duration Prediction"
   ]
  },
  {
   "cell_type": "code",
   "execution_count": 18,
   "id": "fd4d1707",
   "metadata": {},
   "outputs": [
    {
     "name": "stdout",
     "output_type": "stream",
     "text": [
      "          ID  Start_Lat  Start_Lng State           Start_Time  \\\n",
      "0  A-2047758  30.641211 -91.153481    LA  2019-06-12 10:10:56   \n",
      "\n",
      "              End_Time  Distance(mi)  Temperature(F)  Wind_Chill(F)  \\\n",
      "0  2019-06-12 10:55:58           0.0            77.0           77.0   \n",
      "\n",
      "   Humidity(%)  Pressure(in)  Visibility(mi) Wind_Direction  Wind_Speed(mph)  \\\n",
      "0         62.0         29.92            10.0             NW              5.0   \n",
      "\n",
      "   ...  Give_Way Junction  No_Exit  Railway  Roundabout  Station   Stop  \\\n",
      "0  ...     False    False    False    False       False    False  False   \n",
      "\n",
      "   Traffic_Calming  Traffic_Signal  Sunrise_Sunset  Civil_Twilight  \\\n",
      "0            False            True             Day             Day   \n",
      "\n",
      "   Nautical_Twilight  Astronomical_Twilight  Severity  \n",
      "0                Day                    Day         2  \n",
      "\n",
      "[1 rows x 33 columns]\n",
      "0          45.033333\n",
      "1         139.650000\n",
      "2         129.750000\n",
      "3         120.316667\n",
      "4         147.150000\n",
      "             ...    \n",
      "499995     20.500000\n",
      "499996     75.616667\n",
      "499997    125.250000\n",
      "499998     30.000000\n",
      "499999     86.583333\n",
      "Name: time_diff, Length: 500000, dtype: float64\n"
     ]
    }
   ],
   "source": [
    "df_TX = data.loc[:,[\"ID\",'Start_Lat','Start_Lng',\"State\",'Start_Time','End_Time','Distance(mi)',\n",
    "        'Temperature(F)', 'Wind_Chill(F)',\n",
    "       'Humidity(%)', 'Pressure(in)', 'Visibility(mi)', 'Wind_Direction',\n",
    "       'Wind_Speed(mph)', 'Precipitation(in)', 'Weather_Condition', 'Amenity',\n",
    "       'Bump', 'Crossing', 'Give_Way', 'Junction', 'No_Exit', 'Railway',\n",
    "       'Roundabout', 'Station', 'Stop', 'Traffic_Calming', 'Traffic_Signal',\n",
    "        'Sunrise_Sunset', 'Civil_Twilight', 'Nautical_Twilight',\n",
    "        'Astronomical_Twilight',\"Severity\"]]\n",
    "\n",
    "print(df_TX.head(1))\n",
    "# Replace '.000000000' with an empty string in the 'Start_Time' column\n",
    "df_TX['Start_Time'] = df_TX['Start_Time'].str.replace(r'\\.\\d+', '', regex=True)\n",
    "# Replace '.000000000' with an empty string in the 'End_Time' column\n",
    "df_TX['End_Time'] = df_TX['End_Time'].str.replace(r'\\.\\d+', '', regex=True)\n",
    "\n",
    "df_TX['Start_Time'] = pd.to_datetime(df_TX['Start_Time'], format='%Y-%m-%d %H:%M:%S')\n",
    "df_TX['End_Time'] = pd.to_datetime(df_TX['End_Time'], format='%Y-%m-%d %H:%M:%S')\n",
    "\n",
    "# subtract columns to get time difference\n",
    "df_TX['time_diff'] = (df_TX['End_Time'] - df_TX['Start_Time']).dt.total_seconds() / 60\n",
    "df_TX['time_binary'] = df_TX['time_diff'].apply(lambda x: 1 if x > 156 else 0)\n",
    "\n",
    "print(df_TX['time_diff'])"
   ]
  },
  {
   "cell_type": "code",
   "execution_count": 9,
   "id": "f23820b5",
   "metadata": {},
   "outputs": [],
   "source": [
    "# calculate the lower and upper bounds for the middle 95% range\n",
    "lower_bound = df_TX['time_diff'].quantile(0.05)\n",
    "upper_bound = df_TX['time_diff'].quantile(0.95)\n",
    "\n",
    "# select all rows in the dataframe where time_diff is within the middle 90% range\n",
    "df_TX_filtered = df_TX[(df_TX['time_diff'] >= lower_bound) & (df_TX['time_diff'] <= upper_bound)]"
   ]
  },
  {
   "cell_type": "code",
   "execution_count": 10,
   "id": "c358a17c",
   "metadata": {},
   "outputs": [
    {
     "name": "stdout",
     "output_type": "stream",
     "text": [
      "Before removing outliers\n",
      "2236405.75\n",
      "2.5\n",
      "421.94652689999987\n",
      "13206.41576583684\n",
      "After removing outliers\n",
      "360.0\n",
      "28.733333333333334\n",
      "97.6909243648068\n",
      "83.80166502752309\n"
     ]
    }
   ],
   "source": [
    "print('Before removing outliers')\n",
    "print(np.max(df_TX['time_diff']))\n",
    "print(np.min(df_TX['time_diff']))\n",
    "print(np.average(df_TX['time_diff']))\n",
    "print(np.std(df_TX['time_diff']))\n",
    "print('After removing outliers')\n",
    "print(np.max(df_TX_filtered['time_diff']))\n",
    "print(np.min(df_TX_filtered['time_diff']))\n",
    "print(np.average(df_TX_filtered['time_diff']))\n",
    "print(np.std(df_TX_filtered['time_diff']))"
   ]
  },
  {
   "cell_type": "code",
   "execution_count": 11,
   "id": "6917bdf7",
   "metadata": {},
   "outputs": [
    {
     "data": {
      "text/plain": [
       "Text(0, 0.5, 'Accident duration (in minutes)')"
      ]
     },
     "execution_count": 11,
     "metadata": {},
     "output_type": "execute_result"
    },
    {
     "data": {
      "image/png": "[encoded data removed]",
      "text/plain": [
       "<Figure size 640x480 with 1 Axes>"
      ]
     },
     "metadata": {},
     "output_type": "display_data"
    }
   ],
   "source": [
    "# plot density plot of the column data\n",
    "df_TX_filtered.boxplot(column='time_diff')\n",
    "plt.ylabel('Accident duration (in minutes)')"
   ]
  },
  {
   "cell_type": "code",
   "execution_count": 12,
   "id": "37f5848a",
   "metadata": {},
   "outputs": [
    {
     "data": {
      "image/png": "[encoded data removed]",
      "text/plain": [
       "<Figure size 640x480 with 1 Axes>"
      ]
     },
     "metadata": {},
     "output_type": "display_data"
    }
   ],
   "source": [
    "# plot density plot of the column data\n",
    "df_TX_filtered['time_diff'].plot(kind='density')\n",
    "plt.xlabel('Accident Duration (in minutes)')\n",
    "plt.xlim(0,400)\n",
    "plt.show()"
   ]
  },
  {
   "cell_type": "code",
   "execution_count": 32,
   "id": "476834e8",
   "metadata": {},
   "outputs": [],
   "source": [
    "df_TX['Temperature(F)'] = df_TX['Temperature(F)'].fillna(np.mean(df_TX['Temperature(F)']))\n",
    "df_TX['Wind_Chill(F)'] = df_TX['Wind_Chill(F)'].fillna(np.mean(df_TX['Wind_Chill(F)']))\n",
    "df_TX['Humidity(%)'] = df_TX['Humidity(%)'].fillna(np.mean(df_TX['Humidity(%)']))\n",
    "df_TX['Pressure(in)'] = df_TX['Pressure(in)'].fillna(np.mean(df_TX['Pressure(in)']))\n",
    "df_TX['Pressure(in)'] = df_TX['Visibility(mi)'].fillna(np.mean(df_TX['Visibility(mi)']))\n",
    "df_TX['Wind_Direction'] = df_TX['Wind_Direction'].fillna(df_TX['Wind_Direction'].mode()[0])\n",
    "df_TX['Wind_Speed(mph)'] = df_TX['Wind_Speed(mph)'].fillna(np.mean(df_TX['Wind_Speed(mph)']))\n",
    "df_TX['Precipitation(in)'] = df_TX['Precipitation(in)'].fillna(np.mean(df_TX['Precipitation(in)']))\n",
    "df_TX['Sunrise_Sunset'] = df_TX['Sunrise_Sunset'].fillna(df_TX['Sunrise_Sunset'].mode()[0])\n",
    "df_TX['Weather_Condition'] = df_TX['Weather_Condition'].fillna(df_TX['Weather_Condition'].mode()[0])\n",
    "df_TX['Civil_Twilight'] = df_TX['Civil_Twilight'].fillna(df_TX['Civil_Twilight'].mode()[0])\n",
    "df_TX['Nautical_Twilight'] = df_TX['Nautical_Twilight'].fillna(df_TX['Nautical_Twilight'].mode()[0])\n",
    "df_TX['Astronomical_Twilight'] = df_TX['Astronomical_Twilight'].fillna(df_TX['Astronomical_Twilight'].mode()[0])\n",
    "df_TX['Visibility(mi)'] = df_TX['Visibility(mi)'].fillna(np.mean(df_TX['Visibility(mi)']))"
   ]
  },
  {
   "cell_type": "code",
   "execution_count": 33,
   "id": "9a2ce0b2",
   "metadata": {},
   "outputs": [],
   "source": [
    "df_TX[['Amenity',\n",
    "       'Bump', 'Crossing', 'Give_Way', 'Junction', 'No_Exit', 'Railway',\n",
    "       'Roundabout', 'Station', 'Stop', 'Traffic_Calming', 'Traffic_Signal']] = df_TX[['Amenity',\n",
    "       'Bump', 'Crossing', 'Give_Way', 'Junction', 'No_Exit', 'Railway',\n",
    "       'Roundabout', 'Station', 'Stop', 'Traffic_Calming', 'Traffic_Signal']] *1"
   ]
  },
  {
   "cell_type": "code",
   "execution_count": 34,
   "id": "1b96f19b",
   "metadata": {},
   "outputs": [],
   "source": [
    "df_TX['Weather_Condition'] = pd.factorize(df_TX['Weather_Condition'])[0]\n",
    "df_TX['Sunrise_Sunset'] = pd.factorize(df_TX['Sunrise_Sunset'])[0]\n",
    "df_TX['Civil_Twilight'] = pd.factorize(df_TX['Civil_Twilight'])[0]\n",
    "df_TX['Astronomical_Twilight'] = pd.factorize(df_TX['Astronomical_Twilight'])[0]\n",
    "df_TX['Nautical_Twilight'] = pd.factorize(df_TX['Nautical_Twilight'])[0]\n",
    "df_TX['Wind_Direction'] = pd.factorize(df_TX['Wind_Direction'])[0]"
   ]
  },
  {
   "cell_type": "code",
   "execution_count": 35,
   "id": "14192964",
   "metadata": {},
   "outputs": [
    {
     "name": "stdout",
     "output_type": "stream",
     "text": [
      "   Start_Lat  Start_Lng          Start_Time  Distance(mi)  Temperature(F)  \\\n",
      "0  30.641211 -91.153481 2019-06-12 10:10:56           0.0            77.0   \n",
      "\n",
      "   Wind_Chill(F)  Humidity(%)  Pressure(in)  Visibility(mi)  Wind_Direction  \\\n",
      "0           77.0         62.0          10.0            10.0               0   \n",
      "\n",
      "   Wind_Speed(mph)  Precipitation(in)  Weather_Condition  Amenity  ...  \\\n",
      "0              5.0                0.0                  0        0  ...   \n",
      "\n",
      "   No_Exit  Railway  Roundabout  Station  Stop  Traffic_Calming  \\\n",
      "0        0        0           0        0     0                0   \n",
      "\n",
      "   Traffic_Signal  Sunrise_Sunset  Civil_Twilight  Nautical_Twilight  \\\n",
      "0               1               0               0                  0   \n",
      "\n",
      "   Astronomical_Twilight  Severity  time_diff  time_binary  \n",
      "0                      0         2  45.033333            0  \n",
      "\n",
      "[1 rows x 32 columns]\n"
     ]
    }
   ],
   "source": [
    "pd.set_option('display.max_columns', 29)\n",
    "\n",
    "print(df_TX.head(n=1))"
   ]
  },
  {
   "cell_type": "code",
   "execution_count": 44,
   "id": "84dbcfb3",
   "metadata": {},
   "outputs": [],
   "source": [
    "df_TX = df_TX.drop(['Start_Time'],axis=1)\n",
    "df_TX_input = df_TX.drop(['Distance(mi)','Severity'],axis=1)"
   ]
  },
  {
   "cell_type": "code",
   "execution_count": 45,
   "id": "22a13266",
   "metadata": {},
   "outputs": [
    {
     "data": {
      "text/plain": [
       "0          45.033333\n",
       "1         139.650000\n",
       "2         129.750000\n",
       "3         120.316667\n",
       "4         147.150000\n",
       "             ...    \n",
       "499995     20.500000\n",
       "499996     75.616667\n",
       "499997    125.250000\n",
       "499998     30.000000\n",
       "499999     86.583333\n",
       "Name: time_diff, Length: 500000, dtype: float64"
      ]
     },
     "execution_count": 45,
     "metadata": {},
     "output_type": "execute_result"
    }
   ],
   "source": [
    "df_TX['time_diff']"
   ]
  },
  {
   "cell_type": "code",
   "execution_count": 46,
   "id": "0053dcd2",
   "metadata": {},
   "outputs": [
    {
     "data": {
      "text/html": [
       "<div>\n",
       "<style scoped>\n",
       "    .dataframe tbody tr th:only-of-type {\n",
       "        vertical-align: middle;\n",
       "    }\n",
       "\n",
       "    .dataframe tbody tr th {\n",
       "        vertical-align: top;\n",
       "    }\n",
       "\n",
       "    .dataframe thead th {\n",
       "        text-align: right;\n",
       "    }\n",
       "</style>\n",
       "<table border=\"1\" class=\"dataframe\">\n",
       "  <thead>\n",
       "    <tr style=\"text-align: right;\">\n",
       "      <th></th>\n",
       "      <th>Start_Lat</th>\n",
       "      <th>Start_Lng</th>\n",
       "      <th>Distance(mi)</th>\n",
       "      <th>Temperature(F)</th>\n",
       "      <th>Wind_Chill(F)</th>\n",
       "      <th>Humidity(%)</th>\n",
       "      <th>Pressure(in)</th>\n",
       "      <th>Visibility(mi)</th>\n",
       "      <th>Wind_Direction</th>\n",
       "      <th>Wind_Speed(mph)</th>\n",
       "      <th>Precipitation(in)</th>\n",
       "      <th>Weather_Condition</th>\n",
       "      <th>Amenity</th>\n",
       "      <th>Bump</th>\n",
       "      <th>...</th>\n",
       "      <th>No_Exit</th>\n",
       "      <th>Railway</th>\n",
       "      <th>Roundabout</th>\n",
       "      <th>Station</th>\n",
       "      <th>Stop</th>\n",
       "      <th>Traffic_Calming</th>\n",
       "      <th>Traffic_Signal</th>\n",
       "      <th>Sunrise_Sunset</th>\n",
       "      <th>Civil_Twilight</th>\n",
       "      <th>Nautical_Twilight</th>\n",
       "      <th>Astronomical_Twilight</th>\n",
       "      <th>Severity</th>\n",
       "      <th>time_diff</th>\n",
       "      <th>time_binary</th>\n",
       "    </tr>\n",
       "  </thead>\n",
       "  <tbody>\n",
       "    <tr>\n",
       "      <th>0</th>\n",
       "      <td>30.641211</td>\n",
       "      <td>-91.153481</td>\n",
       "      <td>0.000</td>\n",
       "      <td>77.0</td>\n",
       "      <td>77.0</td>\n",
       "      <td>62.0</td>\n",
       "      <td>10.0</td>\n",
       "      <td>10.0</td>\n",
       "      <td>0</td>\n",
       "      <td>5.0</td>\n",
       "      <td>0.00</td>\n",
       "      <td>0</td>\n",
       "      <td>0</td>\n",
       "      <td>0</td>\n",
       "      <td>...</td>\n",
       "      <td>0</td>\n",
       "      <td>0</td>\n",
       "      <td>0</td>\n",
       "      <td>0</td>\n",
       "      <td>0</td>\n",
       "      <td>0</td>\n",
       "      <td>1</td>\n",
       "      <td>0</td>\n",
       "      <td>0</td>\n",
       "      <td>0</td>\n",
       "      <td>0</td>\n",
       "      <td>2</td>\n",
       "      <td>45.033333</td>\n",
       "      <td>0</td>\n",
       "    </tr>\n",
       "    <tr>\n",
       "      <th>1</th>\n",
       "      <td>38.990562</td>\n",
       "      <td>-77.399070</td>\n",
       "      <td>0.056</td>\n",
       "      <td>45.0</td>\n",
       "      <td>43.0</td>\n",
       "      <td>48.0</td>\n",
       "      <td>10.0</td>\n",
       "      <td>10.0</td>\n",
       "      <td>1</td>\n",
       "      <td>5.0</td>\n",
       "      <td>0.00</td>\n",
       "      <td>0</td>\n",
       "      <td>0</td>\n",
       "      <td>0</td>\n",
       "      <td>...</td>\n",
       "      <td>0</td>\n",
       "      <td>0</td>\n",
       "      <td>0</td>\n",
       "      <td>0</td>\n",
       "      <td>0</td>\n",
       "      <td>0</td>\n",
       "      <td>0</td>\n",
       "      <td>1</td>\n",
       "      <td>1</td>\n",
       "      <td>1</td>\n",
       "      <td>1</td>\n",
       "      <td>2</td>\n",
       "      <td>139.650000</td>\n",
       "      <td>0</td>\n",
       "    </tr>\n",
       "    <tr>\n",
       "      <th>2</th>\n",
       "      <td>34.661189</td>\n",
       "      <td>-120.492822</td>\n",
       "      <td>0.022</td>\n",
       "      <td>68.0</td>\n",
       "      <td>68.0</td>\n",
       "      <td>73.0</td>\n",
       "      <td>10.0</td>\n",
       "      <td>10.0</td>\n",
       "      <td>1</td>\n",
       "      <td>13.0</td>\n",
       "      <td>0.00</td>\n",
       "      <td>0</td>\n",
       "      <td>0</td>\n",
       "      <td>0</td>\n",
       "      <td>...</td>\n",
       "      <td>0</td>\n",
       "      <td>0</td>\n",
       "      <td>0</td>\n",
       "      <td>0</td>\n",
       "      <td>0</td>\n",
       "      <td>0</td>\n",
       "      <td>1</td>\n",
       "      <td>0</td>\n",
       "      <td>0</td>\n",
       "      <td>0</td>\n",
       "      <td>0</td>\n",
       "      <td>2</td>\n",
       "      <td>129.750000</td>\n",
       "      <td>0</td>\n",
       "    </tr>\n",
       "    <tr>\n",
       "      <th>3</th>\n",
       "      <td>43.680592</td>\n",
       "      <td>-92.993317</td>\n",
       "      <td>1.054</td>\n",
       "      <td>27.0</td>\n",
       "      <td>15.0</td>\n",
       "      <td>86.0</td>\n",
       "      <td>10.0</td>\n",
       "      <td>10.0</td>\n",
       "      <td>2</td>\n",
       "      <td>15.0</td>\n",
       "      <td>0.00</td>\n",
       "      <td>1</td>\n",
       "      <td>0</td>\n",
       "      <td>0</td>\n",
       "      <td>...</td>\n",
       "      <td>0</td>\n",
       "      <td>0</td>\n",
       "      <td>0</td>\n",
       "      <td>0</td>\n",
       "      <td>0</td>\n",
       "      <td>0</td>\n",
       "      <td>0</td>\n",
       "      <td>0</td>\n",
       "      <td>0</td>\n",
       "      <td>0</td>\n",
       "      <td>0</td>\n",
       "      <td>2</td>\n",
       "      <td>120.316667</td>\n",
       "      <td>0</td>\n",
       "    </tr>\n",
       "    <tr>\n",
       "      <th>4</th>\n",
       "      <td>35.395484</td>\n",
       "      <td>-118.985176</td>\n",
       "      <td>0.046</td>\n",
       "      <td>42.0</td>\n",
       "      <td>42.0</td>\n",
       "      <td>34.0</td>\n",
       "      <td>10.0</td>\n",
       "      <td>10.0</td>\n",
       "      <td>3</td>\n",
       "      <td>0.0</td>\n",
       "      <td>0.00</td>\n",
       "      <td>0</td>\n",
       "      <td>0</td>\n",
       "      <td>0</td>\n",
       "      <td>...</td>\n",
       "      <td>0</td>\n",
       "      <td>0</td>\n",
       "      <td>0</td>\n",
       "      <td>0</td>\n",
       "      <td>0</td>\n",
       "      <td>0</td>\n",
       "      <td>0</td>\n",
       "      <td>1</td>\n",
       "      <td>1</td>\n",
       "      <td>1</td>\n",
       "      <td>1</td>\n",
       "      <td>2</td>\n",
       "      <td>147.150000</td>\n",
       "      <td>0</td>\n",
       "    </tr>\n",
       "    <tr>\n",
       "      <th>...</th>\n",
       "      <td>...</td>\n",
       "      <td>...</td>\n",
       "      <td>...</td>\n",
       "      <td>...</td>\n",
       "      <td>...</td>\n",
       "      <td>...</td>\n",
       "      <td>...</td>\n",
       "      <td>...</td>\n",
       "      <td>...</td>\n",
       "      <td>...</td>\n",
       "      <td>...</td>\n",
       "      <td>...</td>\n",
       "      <td>...</td>\n",
       "      <td>...</td>\n",
       "      <td>...</td>\n",
       "      <td>...</td>\n",
       "      <td>...</td>\n",
       "      <td>...</td>\n",
       "      <td>...</td>\n",
       "      <td>...</td>\n",
       "      <td>...</td>\n",
       "      <td>...</td>\n",
       "      <td>...</td>\n",
       "      <td>...</td>\n",
       "      <td>...</td>\n",
       "      <td>...</td>\n",
       "      <td>...</td>\n",
       "      <td>...</td>\n",
       "      <td>...</td>\n",
       "    </tr>\n",
       "    <tr>\n",
       "      <th>499994</th>\n",
       "      <td>34.136442</td>\n",
       "      <td>-117.411771</td>\n",
       "      <td>0.000</td>\n",
       "      <td>90.0</td>\n",
       "      <td>90.0</td>\n",
       "      <td>7.0</td>\n",
       "      <td>10.0</td>\n",
       "      <td>10.0</td>\n",
       "      <td>0</td>\n",
       "      <td>8.0</td>\n",
       "      <td>0.00</td>\n",
       "      <td>0</td>\n",
       "      <td>0</td>\n",
       "      <td>0</td>\n",
       "      <td>...</td>\n",
       "      <td>0</td>\n",
       "      <td>0</td>\n",
       "      <td>0</td>\n",
       "      <td>0</td>\n",
       "      <td>0</td>\n",
       "      <td>0</td>\n",
       "      <td>0</td>\n",
       "      <td>0</td>\n",
       "      <td>0</td>\n",
       "      <td>0</td>\n",
       "      <td>0</td>\n",
       "      <td>2</td>\n",
       "      <td>92.733333</td>\n",
       "      <td>0</td>\n",
       "    </tr>\n",
       "    <tr>\n",
       "      <th>499996</th>\n",
       "      <td>26.702570</td>\n",
       "      <td>-80.111169</td>\n",
       "      <td>0.040</td>\n",
       "      <td>78.0</td>\n",
       "      <td>78.0</td>\n",
       "      <td>87.0</td>\n",
       "      <td>10.0</td>\n",
       "      <td>10.0</td>\n",
       "      <td>22</td>\n",
       "      <td>13.0</td>\n",
       "      <td>0.01</td>\n",
       "      <td>5</td>\n",
       "      <td>0</td>\n",
       "      <td>0</td>\n",
       "      <td>...</td>\n",
       "      <td>0</td>\n",
       "      <td>0</td>\n",
       "      <td>0</td>\n",
       "      <td>0</td>\n",
       "      <td>0</td>\n",
       "      <td>0</td>\n",
       "      <td>0</td>\n",
       "      <td>0</td>\n",
       "      <td>0</td>\n",
       "      <td>0</td>\n",
       "      <td>0</td>\n",
       "      <td>2</td>\n",
       "      <td>75.616667</td>\n",
       "      <td>0</td>\n",
       "    </tr>\n",
       "    <tr>\n",
       "      <th>499997</th>\n",
       "      <td>34.561862</td>\n",
       "      <td>-112.259620</td>\n",
       "      <td>0.549</td>\n",
       "      <td>52.0</td>\n",
       "      <td>52.0</td>\n",
       "      <td>12.0</td>\n",
       "      <td>10.0</td>\n",
       "      <td>10.0</td>\n",
       "      <td>8</td>\n",
       "      <td>12.0</td>\n",
       "      <td>0.00</td>\n",
       "      <td>0</td>\n",
       "      <td>0</td>\n",
       "      <td>0</td>\n",
       "      <td>...</td>\n",
       "      <td>0</td>\n",
       "      <td>0</td>\n",
       "      <td>0</td>\n",
       "      <td>0</td>\n",
       "      <td>0</td>\n",
       "      <td>0</td>\n",
       "      <td>1</td>\n",
       "      <td>1</td>\n",
       "      <td>1</td>\n",
       "      <td>0</td>\n",
       "      <td>0</td>\n",
       "      <td>2</td>\n",
       "      <td>125.250000</td>\n",
       "      <td>0</td>\n",
       "    </tr>\n",
       "    <tr>\n",
       "      <th>499998</th>\n",
       "      <td>38.406680</td>\n",
       "      <td>-78.619310</td>\n",
       "      <td>0.000</td>\n",
       "      <td>82.0</td>\n",
       "      <td>82.0</td>\n",
       "      <td>38.0</td>\n",
       "      <td>10.0</td>\n",
       "      <td>10.0</td>\n",
       "      <td>16</td>\n",
       "      <td>14.0</td>\n",
       "      <td>0.00</td>\n",
       "      <td>0</td>\n",
       "      <td>0</td>\n",
       "      <td>0</td>\n",
       "      <td>...</td>\n",
       "      <td>0</td>\n",
       "      <td>0</td>\n",
       "      <td>0</td>\n",
       "      <td>0</td>\n",
       "      <td>0</td>\n",
       "      <td>0</td>\n",
       "      <td>1</td>\n",
       "      <td>0</td>\n",
       "      <td>0</td>\n",
       "      <td>0</td>\n",
       "      <td>0</td>\n",
       "      <td>3</td>\n",
       "      <td>30.000000</td>\n",
       "      <td>0</td>\n",
       "    </tr>\n",
       "    <tr>\n",
       "      <th>499999</th>\n",
       "      <td>35.069358</td>\n",
       "      <td>-85.234410</td>\n",
       "      <td>0.086</td>\n",
       "      <td>50.0</td>\n",
       "      <td>50.0</td>\n",
       "      <td>66.0</td>\n",
       "      <td>10.0</td>\n",
       "      <td>10.0</td>\n",
       "      <td>3</td>\n",
       "      <td>0.0</td>\n",
       "      <td>0.00</td>\n",
       "      <td>0</td>\n",
       "      <td>0</td>\n",
       "      <td>0</td>\n",
       "      <td>...</td>\n",
       "      <td>0</td>\n",
       "      <td>0</td>\n",
       "      <td>0</td>\n",
       "      <td>0</td>\n",
       "      <td>0</td>\n",
       "      <td>0</td>\n",
       "      <td>0</td>\n",
       "      <td>1</td>\n",
       "      <td>1</td>\n",
       "      <td>1</td>\n",
       "      <td>1</td>\n",
       "      <td>2</td>\n",
       "      <td>86.583333</td>\n",
       "      <td>0</td>\n",
       "    </tr>\n",
       "  </tbody>\n",
       "</table>\n",
       "<p>459191 rows × 31 columns</p>\n",
       "</div>"
      ],
      "text/plain": [
       "        Start_Lat   Start_Lng  Distance(mi)  Temperature(F)  Wind_Chill(F)  \\\n",
       "0       30.641211  -91.153481         0.000            77.0           77.0   \n",
       "1       38.990562  -77.399070         0.056            45.0           43.0   \n",
       "2       34.661189 -120.492822         0.022            68.0           68.0   \n",
       "3       43.680592  -92.993317         1.054            27.0           15.0   \n",
       "4       35.395484 -118.985176         0.046            42.0           42.0   \n",
       "...           ...         ...           ...             ...            ...   \n",
       "499994  34.136442 -117.411771         0.000            90.0           90.0   \n",
       "499996  26.702570  -80.111169         0.040            78.0           78.0   \n",
       "499997  34.561862 -112.259620         0.549            52.0           52.0   \n",
       "499998  38.406680  -78.619310         0.000            82.0           82.0   \n",
       "499999  35.069358  -85.234410         0.086            50.0           50.0   \n",
       "\n",
       "        Humidity(%)  Pressure(in)  Visibility(mi)  Wind_Direction  \\\n",
       "0              62.0          10.0            10.0               0   \n",
       "1              48.0          10.0            10.0               1   \n",
       "2              73.0          10.0            10.0               1   \n",
       "3              86.0          10.0            10.0               2   \n",
       "4              34.0          10.0            10.0               3   \n",
       "...             ...           ...             ...             ...   \n",
       "499994          7.0          10.0            10.0               0   \n",
       "499996         87.0          10.0            10.0              22   \n",
       "499997         12.0          10.0            10.0               8   \n",
       "499998         38.0          10.0            10.0              16   \n",
       "499999         66.0          10.0            10.0               3   \n",
       "\n",
       "        Wind_Speed(mph)  Precipitation(in)  Weather_Condition  Amenity  Bump  \\\n",
       "0                   5.0               0.00                  0        0     0   \n",
       "1                   5.0               0.00                  0        0     0   \n",
       "2                  13.0               0.00                  0        0     0   \n",
       "3                  15.0               0.00                  1        0     0   \n",
       "4                   0.0               0.00                  0        0     0   \n",
       "...                 ...                ...                ...      ...   ...   \n",
       "499994              8.0               0.00                  0        0     0   \n",
       "499996             13.0               0.01                  5        0     0   \n",
       "499997             12.0               0.00                  0        0     0   \n",
       "499998             14.0               0.00                  0        0     0   \n",
       "499999              0.0               0.00                  0        0     0   \n",
       "\n",
       "        ...  No_Exit  Railway  Roundabout  Station  Stop  Traffic_Calming  \\\n",
       "0       ...        0        0           0        0     0                0   \n",
       "1       ...        0        0           0        0     0                0   \n",
       "2       ...        0        0           0        0     0                0   \n",
       "3       ...        0        0           0        0     0                0   \n",
       "4       ...        0        0           0        0     0                0   \n",
       "...     ...      ...      ...         ...      ...   ...              ...   \n",
       "499994  ...        0        0           0        0     0                0   \n",
       "499996  ...        0        0           0        0     0                0   \n",
       "499997  ...        0        0           0        0     0                0   \n",
       "499998  ...        0        0           0        0     0                0   \n",
       "499999  ...        0        0           0        0     0                0   \n",
       "\n",
       "        Traffic_Signal  Sunrise_Sunset  Civil_Twilight  Nautical_Twilight  \\\n",
       "0                    1               0               0                  0   \n",
       "1                    0               1               1                  1   \n",
       "2                    1               0               0                  0   \n",
       "3                    0               0               0                  0   \n",
       "4                    0               1               1                  1   \n",
       "...                ...             ...             ...                ...   \n",
       "499994               0               0               0                  0   \n",
       "499996               0               0               0                  0   \n",
       "499997               1               1               1                  0   \n",
       "499998               1               0               0                  0   \n",
       "499999               0               1               1                  1   \n",
       "\n",
       "        Astronomical_Twilight  Severity   time_diff  time_binary  \n",
       "0                           0         2   45.033333            0  \n",
       "1                           1         2  139.650000            0  \n",
       "2                           0         2  129.750000            0  \n",
       "3                           0         2  120.316667            0  \n",
       "4                           1         2  147.150000            0  \n",
       "...                       ...       ...         ...          ...  \n",
       "499994                      0         2   92.733333            0  \n",
       "499996                      0         2   75.616667            0  \n",
       "499997                      0         2  125.250000            0  \n",
       "499998                      0         3   30.000000            0  \n",
       "499999                      1         2   86.583333            0  \n",
       "\n",
       "[459191 rows x 31 columns]"
      ]
     },
     "execution_count": 46,
     "metadata": {},
     "output_type": "execute_result"
    }
   ],
   "source": [
    "lower_bound = df_TX['time_diff'].quantile(0.05)\n",
    "upper_bound = df_TX['time_diff'].quantile(0.95)\n",
    "\n",
    "# select all rows in the dataframe where time_diff is within the middle 90% range\n",
    "df_TX_filtered = df_TX[(df_TX['time_diff'] >= lower_bound) & (df_TX['time_diff'] <= upper_bound)]\n",
    "df_TX_filtered"
   ]
  },
  {
   "cell_type": "code",
   "execution_count": 51,
   "id": "00726b06",
   "metadata": {},
   "outputs": [
    {
     "name": "stdout",
     "output_type": "stream",
     "text": [
      "0         45.033333\n",
      "1        139.650000\n",
      "2        129.750000\n",
      "3        120.316667\n",
      "4        147.150000\n",
      "            ...    \n",
      "54450     99.000000\n",
      "54451     29.283333\n",
      "54452    135.500000\n",
      "54453     45.000000\n",
      "54454    360.000000\n",
      "Name: time_diff, Length: 50000, dtype: float64\n"
     ]
    },
    {
     "data": {
      "image/png": "[encoded data removed]",
      "text/plain": [
       "<Figure size 640x480 with 1 Axes>"
      ]
     },
     "metadata": {},
     "output_type": "display_data"
    }
   ],
   "source": [
    "# Define features and target\n",
    "X = df_TX_filtered.drop(columns=['time_diff', 'time_binary'])  # dropping non-numeric or non-relevant features\n",
    "y = df_TX_filtered['time_diff']\n",
    "\n",
    "X = X[:50000]\n",
    "y = y[:50000]\n",
    "df_TX_filtered = df_TX_filtered[:50000]\n",
    "\n",
    "# print(y)\n",
    "\n",
    "X_train, X_test, y_train, y_test = train_test_split(X, y, test_size=0.2, random_state=42)\n",
    "model = RandomForestRegressor(n_estimators=100, random_state=42)\n",
    "model.fit(X_train, y_train)\n",
    "importances = model.feature_importances_\n",
    "indices = np.argsort(importances)[::-1]"
   ]
  },
  {
   "cell_type": "code",
   "execution_count": 53,
   "id": "6b483715",
   "metadata": {},
   "outputs": [
    {
     "data": {
      "image/png": "[encoded data removed]",
      "text/plain": [
       "<Figure size 1000x800 with 1 Axes>"
      ]
     },
     "metadata": {},
     "output_type": "display_data"
    }
   ],
   "source": [
    "# Get top 10 feature importances and corresponding names\n",
    "top_n = 10\n",
    "top_indices = indices[:top_n]\n",
    "top_importances = importances[top_indices]\n",
    "top_features = X_train.columns[top_indices]\n",
    "\n",
    "# Create the plot\n",
    "plt.figure(figsize=(10, 8))  # Adjust the figure size as needed\n",
    "plt.title('Top 10 Feature Importances')\n",
    "plt.barh(range(top_n), top_importances, align='center')\n",
    "plt.yticks(range(top_n), top_features)\n",
    "plt.xlabel('Feature Importance Score')\n",
    "plt.ylabel('Features')\n",
    "plt.gca().invert_yaxis()  # Invert y-axis to have the highest score at the top\n",
    "plt.tight_layout()  # Adjust the layout to fit everything\n",
    "plt.show()"
   ]
  },
  {
   "cell_type": "code",
   "execution_count": 107,
   "id": "afbddd6e",
   "metadata": {},
   "outputs": [
    {
     "name": "stdout",
     "output_type": "stream",
     "text": [
      "RandomForest:\n",
      "  Train_RMSE: 26.610175121727274\n",
      "  Test_RMSE: 68.15557656369238\n",
      "  MAE: 46.035681000000004\n",
      "  R2_Score: 0.42998119629187737\n",
      "  Explained_Variance_Score: 0.4308411946677131\n",
      "AdaBoost:\n",
      "  Train_RMSE: 70.73245548061848\n",
      "  Test_RMSE: 70.76000161954349\n",
      "  MAE: 51.6662852567313\n",
      "  R2_Score: 0.38558464803651393\n",
      "  Explained_Variance_Score: 0.39560598341608555\n",
      "DecisionTree:\n",
      "  Train_RMSE: 9.729507111180988e-17\n",
      "  Test_RMSE: 96.6370874946283\n",
      "  MAE: 57.20336666666667\n",
      "  R2_Score: -0.14597212837288698\n",
      "  Explained_Variance_Score: -0.14376096252635273\n",
      "LinearRegression:\n",
      "  Train_RMSE: 83.11373401353582\n",
      "  Test_RMSE: 89.02921413728801\n",
      "  MAE: 61.88239306650849\n",
      "  R2_Score: 0.02736146937631201\n",
      "  Explained_Variance_Score: 0.028414882508052908\n",
      "XGBoost:\n",
      "  Train_RMSE: 23.87016604369011\n",
      "  Test_RMSE: 70.70085221975599\n",
      "  MAE: 47.77119763267835\n",
      "  R2_Score: 0.38661141764949436\n",
      "  Explained_Variance_Score: 0.3866114525934593\n",
      "SVR:\n",
      "  Train_RMSE: 88.48563245744361\n",
      "  Test_RMSE: 95.02992884587344\n",
      "  MAE: 58.25038102865183\n",
      "  R2_Score: -0.10817206549600478\n",
      "  Explained_Variance_Score: -0.0015439378063928366\n",
      "Lasso:\n",
      "  Train_RMSE: 83.12378685162734\n",
      "  Test_RMSE: 88.93154469984624\n",
      "  MAE: 61.89454074272961\n",
      "  R2_Score: 0.029494363636066723\n",
      "  Explained_Variance_Score: 0.030582489569450977\n",
      "Ridge:\n",
      "  Train_RMSE: 83.11382943102257\n",
      "  Test_RMSE: 89.02459175910053\n",
      "  MAE: 61.87813714359246\n",
      "  R2_Score: 0.02746246513278716\n",
      "  Explained_Variance_Score: 0.028515444007232937\n"
     ]
    }
   ],
   "source": [
    "# df_TX_filtered = df_TX_filtered[:50000]\n",
    "# print(df_TX_filtered)\n",
    "# Define features and target\n",
    "top_features = ['Distance(mi)', 'Precipitation(in)', 'Start_Lng', 'Start_Lat', 'Humidity(%)', 'Temperature(F)', 'Weather_Condition', 'Wind_Direction', 'Wind_Speed(mph)', 'Wind_Chill(F)']\n",
    "X = df_TX_filtered[top_features]\n",
    "y = abs(df_TX_filtered['time_diff'])  # replace with the actual target column name\n",
    "\n",
    "# Split the data\n",
    "X_train, X_test, y_train, y_test = train_test_split(X, y, test_size=0.2, random_state=42)\n",
    "\n",
    "# Prepare a dictionary of regression models including the new ones\n",
    "models = {\n",
    "    'RandomForest': RandomForestRegressor(),\n",
    "    'AdaBoost': AdaBoostRegressor(),\n",
    "    'DecisionTree': DecisionTreeRegressor(),\n",
    "    'LinearRegression': LinearRegression(),\n",
    "    'XGBoost': XGBRegressor(),\n",
    "    'SVR': SVR(),\n",
    "    'Lasso': Lasso(),\n",
    "    'Ridge': Ridge()\n",
    "}\n",
    "\n",
    "# Prepare a dictionary for model results\n",
    "model_results = {}\n",
    "\n",
    "# Train and evaluate each regression model\n",
    "for model_name, model in models.items():\n",
    "    # Train the model\n",
    "    model.fit(X_train, y_train)\n",
    "    \n",
    "    # Make predictions\n",
    "    y_pred_train = model.predict(X_train)\n",
    "    y_pred_test = model.predict(X_test)\n",
    "    \n",
    "    # Calculate regression metrics\n",
    "    train_rmse = mean_squared_error(y_train, y_pred_train, squared=False)\n",
    "    test_rmse = mean_squared_error(y_test, y_pred_test, squared=False)\n",
    "    mae = mean_absolute_error(y_test, y_pred_test)\n",
    "    r2 = r2_score(y_test, y_pred_test)\n",
    "    evs = explained_variance_score(y_test, y_pred_test)  # New metric\n",
    "#     msle = mean_squared_log_error(y_test, y_pred_test)   # New metric\n",
    "    \n",
    "    # Store results\n",
    "    model_results[model_name] = {\n",
    "        'Train_RMSE': train_rmse,\n",
    "        'Test_RMSE': test_rmse,\n",
    "        'MAE': mae,\n",
    "        'R2_Score': r2,\n",
    "        'Explained_Variance_Score': evs\n",
    "#         'Mean_Squared_Log_Error': msle\n",
    "    }\n",
    "\n",
    "# Display the results\n",
    "for model_name, metrics in model_results.items():\n",
    "    print(f\"{model_name}:\")\n",
    "    for metric_name, metric_value in metrics.items():\n",
    "        print(f\"  {metric_name}: {metric_value}\")"
   ]
  },
  {
   "cell_type": "code",
   "execution_count": 108,
   "id": "973381b5",
   "metadata": {},
   "outputs": [
    {
     "data": {
      "text/html": [
       "<div>\n",
       "<style scoped>\n",
       "    .dataframe tbody tr th:only-of-type {\n",
       "        vertical-align: middle;\n",
       "    }\n",
       "\n",
       "    .dataframe tbody tr th {\n",
       "        vertical-align: top;\n",
       "    }\n",
       "\n",
       "    .dataframe thead th {\n",
       "        text-align: right;\n",
       "    }\n",
       "</style>\n",
       "<table border=\"1\" class=\"dataframe\">\n",
       "  <thead>\n",
       "    <tr style=\"text-align: right;\">\n",
       "      <th></th>\n",
       "      <th>Train_RMSE</th>\n",
       "      <th>Test_RMSE</th>\n",
       "      <th>MAE</th>\n",
       "      <th>R2_Score</th>\n",
       "      <th>Explained_Variance_Score</th>\n",
       "    </tr>\n",
       "  </thead>\n",
       "  <tbody>\n",
       "    <tr>\n",
       "      <th>RandomForest</th>\n",
       "      <td>2.661018e+01</td>\n",
       "      <td>68.155577</td>\n",
       "      <td>46.035681</td>\n",
       "      <td>0.429981</td>\n",
       "      <td>0.430841</td>\n",
       "    </tr>\n",
       "    <tr>\n",
       "      <th>AdaBoost</th>\n",
       "      <td>7.073246e+01</td>\n",
       "      <td>70.760002</td>\n",
       "      <td>51.666285</td>\n",
       "      <td>0.385585</td>\n",
       "      <td>0.395606</td>\n",
       "    </tr>\n",
       "    <tr>\n",
       "      <th>DecisionTree</th>\n",
       "      <td>9.729507e-17</td>\n",
       "      <td>96.637087</td>\n",
       "      <td>57.203367</td>\n",
       "      <td>-0.145972</td>\n",
       "      <td>-0.143761</td>\n",
       "    </tr>\n",
       "    <tr>\n",
       "      <th>LinearRegression</th>\n",
       "      <td>8.311373e+01</td>\n",
       "      <td>89.029214</td>\n",
       "      <td>61.882393</td>\n",
       "      <td>0.027361</td>\n",
       "      <td>0.028415</td>\n",
       "    </tr>\n",
       "    <tr>\n",
       "      <th>XGBoost</th>\n",
       "      <td>2.387017e+01</td>\n",
       "      <td>70.700852</td>\n",
       "      <td>47.771198</td>\n",
       "      <td>0.386611</td>\n",
       "      <td>0.386611</td>\n",
       "    </tr>\n",
       "    <tr>\n",
       "      <th>SVR</th>\n",
       "      <td>8.848563e+01</td>\n",
       "      <td>95.029929</td>\n",
       "      <td>58.250381</td>\n",
       "      <td>-0.108172</td>\n",
       "      <td>-0.001544</td>\n",
       "    </tr>\n",
       "    <tr>\n",
       "      <th>Lasso</th>\n",
       "      <td>8.312379e+01</td>\n",
       "      <td>88.931545</td>\n",
       "      <td>61.894541</td>\n",
       "      <td>0.029494</td>\n",
       "      <td>0.030582</td>\n",
       "    </tr>\n",
       "    <tr>\n",
       "      <th>Ridge</th>\n",
       "      <td>8.311383e+01</td>\n",
       "      <td>89.024592</td>\n",
       "      <td>61.878137</td>\n",
       "      <td>0.027462</td>\n",
       "      <td>0.028515</td>\n",
       "    </tr>\n",
       "  </tbody>\n",
       "</table>\n",
       "</div>"
      ],
      "text/plain": [
       "                    Train_RMSE  Test_RMSE        MAE  R2_Score  \\\n",
       "RandomForest      2.661018e+01  68.155577  46.035681  0.429981   \n",
       "AdaBoost          7.073246e+01  70.760002  51.666285  0.385585   \n",
       "DecisionTree      9.729507e-17  96.637087  57.203367 -0.145972   \n",
       "LinearRegression  8.311373e+01  89.029214  61.882393  0.027361   \n",
       "XGBoost           2.387017e+01  70.700852  47.771198  0.386611   \n",
       "SVR               8.848563e+01  95.029929  58.250381 -0.108172   \n",
       "Lasso             8.312379e+01  88.931545  61.894541  0.029494   \n",
       "Ridge             8.311383e+01  89.024592  61.878137  0.027462   \n",
       "\n",
       "                  Explained_Variance_Score  \n",
       "RandomForest                      0.430841  \n",
       "AdaBoost                          0.395606  \n",
       "DecisionTree                     -0.143761  \n",
       "LinearRegression                  0.028415  \n",
       "XGBoost                           0.386611  \n",
       "SVR                              -0.001544  \n",
       "Lasso                             0.030582  \n",
       "Ridge                             0.028515  "
      ]
     },
     "execution_count": 108,
     "metadata": {},
     "output_type": "execute_result"
    }
   ],
   "source": [
    "# Convert the model results to a DataFrame\n",
    "results_df = pd.DataFrame(model_results).T\n",
    "results_df"
   ]
  },
  {
   "cell_type": "code",
   "execution_count": null,
   "id": "c2853da8",
   "metadata": {},
   "outputs": [],
   "source": []
  }
 ],
 "metadata": {
  "kernelspec": {
   "display_name": "Python 3 (ipykernel)",
   "language": "python",
   "name": "python3"
  },
  "language_info": {
   "codemirror_mode": {
    "name": "ipython",
    "version": 3
   },
   "file_extension": ".py",
   "mimetype": "text/x-python",
   "name": "python",
   "nbconvert_exporter": "python",
   "pygments_lexer": "ipython3",
   "version": "3.11.5"
  }
 },
 "nbformat": 4,
 "nbformat_minor": 5
}
